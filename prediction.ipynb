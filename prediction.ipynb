{
 "cells": [
  {
   "cell_type": "markdown",
   "metadata": {},
   "source": [
    "# Predict Fix Page Duration\n",
    "Inputs:\n",
    "- timestamp\n",
    "- duration_ms\n",
    "- function_name\n",
    "- page_num\n",
    "- exclusive\n",
    "- pool_size\n",
    "- fifo_size\n",
    "- lru_size"
   ]
  },
  {
   "cell_type": "code",
   "execution_count": 5,
   "metadata": {},
   "outputs": [],
   "source": [
    "import pandas as pd\n",
    "import numpy as np\n",
    "import seaborn as sns\n",
    "import matplotlib.pyplot as plt\n",
    "from sklearn.metrics import mean_squared_error, mean_absolute_error"
   ]
  },
  {
   "cell_type": "code",
   "execution_count": 6,
   "metadata": {},
   "outputs": [
    {
     "data": {
      "text/html": [
       "<div>\n",
       "<style scoped>\n",
       "    .dataframe tbody tr th:only-of-type {\n",
       "        vertical-align: middle;\n",
       "    }\n",
       "\n",
       "    .dataframe tbody tr th {\n",
       "        vertical-align: top;\n",
       "    }\n",
       "\n",
       "    .dataframe thead th {\n",
       "        text-align: right;\n",
       "    }\n",
       "</style>\n",
       "<table border=\"1\" class=\"dataframe\">\n",
       "  <thead>\n",
       "    <tr style=\"text-align: right;\">\n",
       "      <th></th>\n",
       "      <th>count</th>\n",
       "      <th>unique</th>\n",
       "      <th>top</th>\n",
       "      <th>freq</th>\n",
       "      <th>mean</th>\n",
       "      <th>std</th>\n",
       "      <th>min</th>\n",
       "      <th>25%</th>\n",
       "      <th>50%</th>\n",
       "      <th>75%</th>\n",
       "      <th>max</th>\n",
       "    </tr>\n",
       "  </thead>\n",
       "  <tbody>\n",
       "    <tr>\n",
       "      <th>timestamp</th>\n",
       "      <td>400000.0</td>\n",
       "      <td>NaN</td>\n",
       "      <td>NaN</td>\n",
       "      <td>NaN</td>\n",
       "      <td>1731702690.776222</td>\n",
       "      <td>7.159491</td>\n",
       "      <td>1731702678.0</td>\n",
       "      <td>1731702685.0</td>\n",
       "      <td>1731702691.0</td>\n",
       "      <td>1731702697.0</td>\n",
       "      <td>1731702703.0</td>\n",
       "    </tr>\n",
       "    <tr>\n",
       "      <th>duration_ms</th>\n",
       "      <td>400000.0</td>\n",
       "      <td>NaN</td>\n",
       "      <td>NaN</td>\n",
       "      <td>NaN</td>\n",
       "      <td>0.201867</td>\n",
       "      <td>0.325946</td>\n",
       "      <td>0.002</td>\n",
       "      <td>0.161</td>\n",
       "      <td>0.211</td>\n",
       "      <td>0.218</td>\n",
       "      <td>79.157</td>\n",
       "    </tr>\n",
       "    <tr>\n",
       "      <th>function_name</th>\n",
       "      <td>400000</td>\n",
       "      <td>1</td>\n",
       "      <td>fix_page</td>\n",
       "      <td>400000</td>\n",
       "      <td>NaN</td>\n",
       "      <td>NaN</td>\n",
       "      <td>NaN</td>\n",
       "      <td>NaN</td>\n",
       "      <td>NaN</td>\n",
       "      <td>NaN</td>\n",
       "      <td>NaN</td>\n",
       "    </tr>\n",
       "    <tr>\n",
       "      <th>page_num</th>\n",
       "      <td>400000.0</td>\n",
       "      <td>NaN</td>\n",
       "      <td>NaN</td>\n",
       "      <td>NaN</td>\n",
       "      <td>50.019742</td>\n",
       "      <td>29.138978</td>\n",
       "      <td>0.0</td>\n",
       "      <td>25.0</td>\n",
       "      <td>50.0</td>\n",
       "      <td>75.0</td>\n",
       "      <td>100.0</td>\n",
       "    </tr>\n",
       "    <tr>\n",
       "      <th>exclusive</th>\n",
       "      <td>400000</td>\n",
       "      <td>1</td>\n",
       "      <td>shared</td>\n",
       "      <td>400000</td>\n",
       "      <td>NaN</td>\n",
       "      <td>NaN</td>\n",
       "      <td>NaN</td>\n",
       "      <td>NaN</td>\n",
       "      <td>NaN</td>\n",
       "      <td>NaN</td>\n",
       "      <td>NaN</td>\n",
       "    </tr>\n",
       "    <tr>\n",
       "      <th>pool_size</th>\n",
       "      <td>400000.0</td>\n",
       "      <td>NaN</td>\n",
       "      <td>NaN</td>\n",
       "      <td>NaN</td>\n",
       "      <td>10.0</td>\n",
       "      <td>0.0</td>\n",
       "      <td>10.0</td>\n",
       "      <td>10.0</td>\n",
       "      <td>10.0</td>\n",
       "      <td>10.0</td>\n",
       "      <td>10.0</td>\n",
       "    </tr>\n",
       "    <tr>\n",
       "      <th>fifo_size</th>\n",
       "      <td>400000.0</td>\n",
       "      <td>NaN</td>\n",
       "      <td>NaN</td>\n",
       "      <td>NaN</td>\n",
       "      <td>2.269382</td>\n",
       "      <td>0.542924</td>\n",
       "      <td>0.0</td>\n",
       "      <td>2.0</td>\n",
       "      <td>2.0</td>\n",
       "      <td>3.0</td>\n",
       "      <td>10.0</td>\n",
       "    </tr>\n",
       "    <tr>\n",
       "      <th>lru_size</th>\n",
       "      <td>400000.0</td>\n",
       "      <td>NaN</td>\n",
       "      <td>NaN</td>\n",
       "      <td>NaN</td>\n",
       "      <td>7.7239</td>\n",
       "      <td>0.538451</td>\n",
       "      <td>0.0</td>\n",
       "      <td>7.0</td>\n",
       "      <td>8.0</td>\n",
       "      <td>8.0</td>\n",
       "      <td>10.0</td>\n",
       "    </tr>\n",
       "    <tr>\n",
       "      <th>locking</th>\n",
       "      <td>400000.0</td>\n",
       "      <td>NaN</td>\n",
       "      <td>NaN</td>\n",
       "      <td>NaN</td>\n",
       "      <td>0.141879</td>\n",
       "      <td>0.277485</td>\n",
       "      <td>0.0</td>\n",
       "      <td>0.101</td>\n",
       "      <td>0.151</td>\n",
       "      <td>0.156</td>\n",
       "      <td>79.036</td>\n",
       "    </tr>\n",
       "    <tr>\n",
       "      <th>queues</th>\n",
       "      <td>400000.0</td>\n",
       "      <td>NaN</td>\n",
       "      <td>NaN</td>\n",
       "      <td>NaN</td>\n",
       "      <td>0.000144</td>\n",
       "      <td>0.008553</td>\n",
       "      <td>0.0</td>\n",
       "      <td>0.0</td>\n",
       "      <td>0.0</td>\n",
       "      <td>0.0</td>\n",
       "      <td>5.28</td>\n",
       "    </tr>\n",
       "    <tr>\n",
       "      <th>eviction</th>\n",
       "      <td>360327.0</td>\n",
       "      <td>NaN</td>\n",
       "      <td>NaN</td>\n",
       "      <td>NaN</td>\n",
       "      <td>0.000302</td>\n",
       "      <td>0.022587</td>\n",
       "      <td>0.0</td>\n",
       "      <td>0.0</td>\n",
       "      <td>0.0</td>\n",
       "      <td>0.0</td>\n",
       "      <td>13.282</td>\n",
       "    </tr>\n",
       "    <tr>\n",
       "      <th>add_page</th>\n",
       "      <td>360327.0</td>\n",
       "      <td>NaN</td>\n",
       "      <td>NaN</td>\n",
       "      <td>NaN</td>\n",
       "      <td>0.0616</td>\n",
       "      <td>0.142273</td>\n",
       "      <td>0.055</td>\n",
       "      <td>0.058</td>\n",
       "      <td>0.058</td>\n",
       "      <td>0.059</td>\n",
       "      <td>62.427</td>\n",
       "    </tr>\n",
       "  </tbody>\n",
       "</table>\n",
       "</div>"
      ],
      "text/plain": [
       "                  count unique       top    freq               mean  \\\n",
       "timestamp      400000.0    NaN       NaN     NaN  1731702690.776222   \n",
       "duration_ms    400000.0    NaN       NaN     NaN           0.201867   \n",
       "function_name    400000      1  fix_page  400000                NaN   \n",
       "page_num       400000.0    NaN       NaN     NaN          50.019742   \n",
       "exclusive        400000      1    shared  400000                NaN   \n",
       "pool_size      400000.0    NaN       NaN     NaN               10.0   \n",
       "fifo_size      400000.0    NaN       NaN     NaN           2.269382   \n",
       "lru_size       400000.0    NaN       NaN     NaN             7.7239   \n",
       "locking        400000.0    NaN       NaN     NaN           0.141879   \n",
       "queues         400000.0    NaN       NaN     NaN           0.000144   \n",
       "eviction       360327.0    NaN       NaN     NaN           0.000302   \n",
       "add_page       360327.0    NaN       NaN     NaN             0.0616   \n",
       "\n",
       "                     std           min           25%           50%  \\\n",
       "timestamp       7.159491  1731702678.0  1731702685.0  1731702691.0   \n",
       "duration_ms     0.325946         0.002         0.161         0.211   \n",
       "function_name        NaN           NaN           NaN           NaN   \n",
       "page_num       29.138978           0.0          25.0          50.0   \n",
       "exclusive            NaN           NaN           NaN           NaN   \n",
       "pool_size            0.0          10.0          10.0          10.0   \n",
       "fifo_size       0.542924           0.0           2.0           2.0   \n",
       "lru_size        0.538451           0.0           7.0           8.0   \n",
       "locking         0.277485           0.0         0.101         0.151   \n",
       "queues          0.008553           0.0           0.0           0.0   \n",
       "eviction        0.022587           0.0           0.0           0.0   \n",
       "add_page        0.142273         0.055         0.058         0.058   \n",
       "\n",
       "                        75%           max  \n",
       "timestamp      1731702697.0  1731702703.0  \n",
       "duration_ms           0.218        79.157  \n",
       "function_name           NaN           NaN  \n",
       "page_num               75.0         100.0  \n",
       "exclusive               NaN           NaN  \n",
       "pool_size              10.0          10.0  \n",
       "fifo_size               3.0          10.0  \n",
       "lru_size                8.0          10.0  \n",
       "locking               0.156        79.036  \n",
       "queues                  0.0          5.28  \n",
       "eviction                0.0        13.282  \n",
       "add_page              0.059        62.427  "
      ]
     },
     "execution_count": 6,
     "metadata": {},
     "output_type": "execute_result"
    }
   ],
   "source": [
    "data_path = './buffer_stats.csv'\n",
    "df = pd.read_csv(data_path)\n",
    "df.describe(include='all').T"
   ]
  },
  {
   "cell_type": "code",
   "execution_count": 7,
   "metadata": {},
   "outputs": [],
   "source": [
    "# Naive MSE\n",
    "df['avg_duration'] = df['duration_ms'].mean()\n",
    "mse = mean_squared_error(df['duration_ms'], df['avg_duration'])\n",
    "abse = mean_absolute_error(df['duration_ms'], df['avg_duration'])"
   ]
  },
  {
   "cell_type": "code",
   "execution_count": 8,
   "metadata": {},
   "outputs": [
    {
     "data": {
      "text/plain": [
       "(array([3.99754e+05, 1.08000e+02, 5.90000e+01, 2.70000e+01, 1.30000e+01,\n",
       "        1.20000e+01, 6.00000e+00, 4.00000e+00, 4.00000e+00, 5.00000e+00,\n",
       "        1.00000e+00, 3.00000e+00, 0.00000e+00, 0.00000e+00, 0.00000e+00,\n",
       "        0.00000e+00, 1.00000e+00, 0.00000e+00, 0.00000e+00, 0.00000e+00,\n",
       "        0.00000e+00, 0.00000e+00, 0.00000e+00, 1.00000e+00, 0.00000e+00,\n",
       "        0.00000e+00, 0.00000e+00, 0.00000e+00, 1.00000e+00, 1.00000e+00]),\n",
       " array([2.00000e-03, 2.64050e+00, 5.27900e+00, 7.91750e+00, 1.05560e+01,\n",
       "        1.31945e+01, 1.58330e+01, 1.84715e+01, 2.11100e+01, 2.37485e+01,\n",
       "        2.63870e+01, 2.90255e+01, 3.16640e+01, 3.43025e+01, 3.69410e+01,\n",
       "        3.95795e+01, 4.22180e+01, 4.48565e+01, 4.74950e+01, 5.01335e+01,\n",
       "        5.27720e+01, 5.54105e+01, 5.80490e+01, 6.06875e+01, 6.33260e+01,\n",
       "        6.59645e+01, 6.86030e+01, 7.12415e+01, 7.38800e+01, 7.65185e+01,\n",
       "        7.91570e+01]),\n",
       " <BarContainer object of 30 artists>)"
      ]
     },
     "execution_count": 8,
     "metadata": {},
     "output_type": "execute_result"
    },
    {
     "data": {
      "image/png": "[encoded data removed]",
      "text/plain": [
       "<Figure size 640x480 with 1 Axes>"
      ]
     },
     "metadata": {},
     "output_type": "display_data"
    }
   ],
   "source": [
    "# Bin by duration\n",
    "bins = [0,0.15, 0.3, 1, 5, 40]\n",
    "df['duration_bins'] = pd.cut(df['duration_ms'], bins=bins)\n",
    "df['duration_bins'].value_counts()\n",
    "plt.hist(df['duration_ms'], bins=30)"
   ]
  },
  {
   "cell_type": "code",
   "execution_count": 9,
   "metadata": {},
   "outputs": [
    {
     "name": "stderr",
     "output_type": "stream",
     "text": [
      "/Users/akhilkammila/miniconda3/envs/tradingClub/lib/python3.12/site-packages/seaborn/categorical.py:253: FutureWarning: The default of observed=False is deprecated and will be changed to True in a future version of pandas. Pass observed=False to retain current behavior or observed=True to adopt the future default and silence this warning.\n",
      "  grouped_vals = vals.groupby(grouper)\n"
     ]
    },
    {
     "data": {
      "image/png": "[encoded data removed]",
      "text/plain": [
       "<Figure size 640x480 with 1 Axes>"
      ]
     },
     "metadata": {},
     "output_type": "display_data"
    },
    {
     "name": "stderr",
     "output_type": "stream",
     "text": [
      "/Users/akhilkammila/miniconda3/envs/tradingClub/lib/python3.12/site-packages/seaborn/categorical.py:253: FutureWarning: The default of observed=False is deprecated and will be changed to True in a future version of pandas. Pass observed=False to retain current behavior or observed=True to adopt the future default and silence this warning.\n",
      "  grouped_vals = vals.groupby(grouper)\n"
     ]
    },
    {
     "data": {
      "text/plain": [
       "<Axes: xlabel='duration_bins', ylabel='lru_size'>"
      ]
     },
     "execution_count": 9,
     "metadata": {},
     "output_type": "execute_result"
    },
    {
     "data": {
      "image/png": "[encoded data removed]",
      "text/plain": [
       "<Figure size 640x480 with 1 Axes>"
      ]
     },
     "metadata": {},
     "output_type": "display_data"
    }
   ],
   "source": [
    "# Is fifo size or lru size predictive?\n",
    "sns.boxplot(data=df, x='duration_bins', y='fifo_size')\n",
    "plt.show()\n",
    "sns.boxplot(data=df, x='duration_bins', y='lru_size')"
   ]
  },
  {
   "cell_type": "code",
   "execution_count": null,
   "metadata": {},
   "outputs": [
    {
     "data": {
      "text/plain": [
       "<Axes: xlabel='duration_ms', ylabel='Count'>"
      ]
     },
     "execution_count": 21,
     "metadata": {},
     "output_type": "execute_result"
    },
    {
     "data": {
      "image/png": "[encoded data removed]",
      "text/plain": [
       "<Figure size 640x480 with 1 Axes>"
      ]
     },
     "metadata": {},
     "output_type": "display_data"
    }
   ],
   "source": [
    "# By page num\n",
    "page_num_durations = df.groupby(by='page_num')['duration_ms'].mean()\n",
    "sns.histplot(page_num_durations)"
   ]
  },
  {
   "cell_type": "code",
   "execution_count": null,
   "metadata": {},
   "outputs": [],
   "source": [
    "# How long ago the same page was accessed\n",
    "first_access = df.groupby(by='page_num').apply(lambda x : x.index[0])\n",
    "df['First Access'] = df.apply(lambda x: x.index == first_access[x['page_num']], axis=0)\n",
    "df.head()"
   ]
  },
  {
   "cell_type": "code",
   "execution_count": null,
   "metadata": {},
   "outputs": [],
   "source": []
  }
 ],
 "metadata": {
  "kernelspec": {
   "display_name": "tradingClub",
   "language": "python",
   "name": "python3"
  },
  "language_info": {
   "codemirror_mode": {
    "name": "ipython",
    "version": 3
   },
   "file_extension": ".py",
   "mimetype": "text/x-python",
   "name": "python",
   "nbconvert_exporter": "python",
   "pygments_lexer": "ipython3",
   "version": "3.12.5"
  }
 },
 "nbformat": 4,
 "nbformat_minor": 2
}
